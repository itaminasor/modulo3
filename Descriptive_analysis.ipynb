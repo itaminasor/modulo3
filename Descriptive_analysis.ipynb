{
 "cells": [
  {
   "cell_type": "code",
   "execution_count": 2,
   "metadata": {},
   "outputs": [],
   "source": [
    "# Importando librerias\n",
    "import numpy as np\n",
    "import pandas as pd"
   ]
  },
  {
   "cell_type": "code",
   "execution_count": 3,
   "metadata": {},
   "outputs": [
    {
     "data": {
      "text/html": [
       "<div>\n",
       "<style scoped>\n",
       "    .dataframe tbody tr th:only-of-type {\n",
       "        vertical-align: middle;\n",
       "    }\n",
       "\n",
       "    .dataframe tbody tr th {\n",
       "        vertical-align: top;\n",
       "    }\n",
       "\n",
       "    .dataframe thead th {\n",
       "        text-align: right;\n",
       "    }\n",
       "</style>\n",
       "<table border=\"1\" class=\"dataframe\">\n",
       "  <thead>\n",
       "    <tr style=\"text-align: right;\">\n",
       "      <th></th>\n",
       "      <th>id</th>\n",
       "      <th>Gender</th>\n",
       "      <th>Python_user</th>\n",
       "      <th>R_user</th>\n",
       "      <th>Age</th>\n",
       "      <th>Publications</th>\n",
       "      <th>Tasks</th>\n",
       "      <th>Q1</th>\n",
       "      <th>Q2</th>\n",
       "      <th>Q3</th>\n",
       "      <th>Q4</th>\n",
       "      <th>Q5</th>\n",
       "      <th>Q6</th>\n",
       "      <th>Q7</th>\n",
       "      <th>Q8</th>\n",
       "      <th>Q9</th>\n",
       "      <th>Q10</th>\n",
       "      <th>Year</th>\n",
       "    </tr>\n",
       "  </thead>\n",
       "  <tbody>\n",
       "    <tr>\n",
       "      <th>0</th>\n",
       "      <td>1</td>\n",
       "      <td>female</td>\n",
       "      <td>yes</td>\n",
       "      <td>yes</td>\n",
       "      <td>38.0</td>\n",
       "      <td>33</td>\n",
       "      <td>Postdoctoral_research</td>\n",
       "      <td>5</td>\n",
       "      <td>5</td>\n",
       "      <td>5</td>\n",
       "      <td>3</td>\n",
       "      <td>3</td>\n",
       "      <td>2</td>\n",
       "      <td>5</td>\n",
       "      <td>4</td>\n",
       "      <td>5</td>\n",
       "      <td>4</td>\n",
       "      <td>2004</td>\n",
       "    </tr>\n",
       "    <tr>\n",
       "      <th>1</th>\n",
       "      <td>2</td>\n",
       "      <td>male</td>\n",
       "      <td>no</td>\n",
       "      <td>yes</td>\n",
       "      <td>36.0</td>\n",
       "      <td>31</td>\n",
       "      <td>Postdoctoral_research</td>\n",
       "      <td>3</td>\n",
       "      <td>4</td>\n",
       "      <td>4</td>\n",
       "      <td>4</td>\n",
       "      <td>4</td>\n",
       "      <td>3</td>\n",
       "      <td>5</td>\n",
       "      <td>4</td>\n",
       "      <td>4</td>\n",
       "      <td>2</td>\n",
       "      <td>2002</td>\n",
       "    </tr>\n",
       "    <tr>\n",
       "      <th>2</th>\n",
       "      <td>3</td>\n",
       "      <td>male</td>\n",
       "      <td>yes</td>\n",
       "      <td>no</td>\n",
       "      <td>30.0</td>\n",
       "      <td>19</td>\n",
       "      <td>PhD_Student</td>\n",
       "      <td>5</td>\n",
       "      <td>5</td>\n",
       "      <td>5</td>\n",
       "      <td>4</td>\n",
       "      <td>5</td>\n",
       "      <td>4</td>\n",
       "      <td>5</td>\n",
       "      <td>4</td>\n",
       "      <td>5</td>\n",
       "      <td>5</td>\n",
       "      <td>2016</td>\n",
       "    </tr>\n",
       "    <tr>\n",
       "      <th>3</th>\n",
       "      <td>4</td>\n",
       "      <td>female</td>\n",
       "      <td>yes</td>\n",
       "      <td>no</td>\n",
       "      <td>42.0</td>\n",
       "      <td>29</td>\n",
       "      <td>Phd_Supervisor</td>\n",
       "      <td>4</td>\n",
       "      <td>4</td>\n",
       "      <td>4</td>\n",
       "      <td>3</td>\n",
       "      <td>3</td>\n",
       "      <td>4</td>\n",
       "      <td>4</td>\n",
       "      <td>2</td>\n",
       "      <td>3</td>\n",
       "      <td>4</td>\n",
       "      <td>2007</td>\n",
       "    </tr>\n",
       "    <tr>\n",
       "      <th>4</th>\n",
       "      <td>5</td>\n",
       "      <td>female</td>\n",
       "      <td>yes</td>\n",
       "      <td>no</td>\n",
       "      <td>37.0</td>\n",
       "      <td>31</td>\n",
       "      <td>PhD_Student</td>\n",
       "      <td>4</td>\n",
       "      <td>3</td>\n",
       "      <td>5</td>\n",
       "      <td>2</td>\n",
       "      <td>4</td>\n",
       "      <td>4</td>\n",
       "      <td>5</td>\n",
       "      <td>3</td>\n",
       "      <td>5</td>\n",
       "      <td>4</td>\n",
       "      <td>2001</td>\n",
       "    </tr>\n",
       "  </tbody>\n",
       "</table>\n",
       "</div>"
      ],
      "text/plain": [
       "   id  Gender Python_user R_user   Age  Publications                  Tasks  \\\n",
       "0   1  female         yes    yes  38.0            33  Postdoctoral_research   \n",
       "1   2    male          no    yes  36.0            31  Postdoctoral_research   \n",
       "2   3    male         yes     no  30.0            19            PhD_Student   \n",
       "3   4  female         yes     no  42.0            29         Phd_Supervisor   \n",
       "4   5  female         yes     no  37.0            31            PhD_Student   \n",
       "\n",
       "   Q1  Q2  Q3  Q4  Q5  Q6  Q7  Q8  Q9  Q10  Year  \n",
       "0   5   5   5   3   3   2   5   4   5    4  2004  \n",
       "1   3   4   4   4   4   3   5   4   4    2  2002  \n",
       "2   5   5   5   4   5   4   5   4   5    5  2016  \n",
       "3   4   4   4   3   3   4   4   2   3    4  2007  \n",
       "4   4   3   5   2   4   4   5   3   5    4  2001  "
      ]
     },
     "execution_count": 3,
     "metadata": {},
     "output_type": "execute_result"
    }
   ],
   "source": [
    "datadf = pd.read_csv(\"data.csv\",sep = \";\")\n",
    "datadf.head()"
   ]
  },
  {
   "cell_type": "markdown",
   "metadata": {},
   "source": [
    "# 1.- Categorical Variables"
   ]
  },
  {
   "cell_type": "markdown",
   "metadata": {},
   "source": [
    "## A suggestion of the descriptive analysis of Gender"
   ]
  },
  {
   "cell_type": "code",
   "execution_count": 4,
   "metadata": {},
   "outputs": [
    {
     "data": {
      "text/plain": [
       "male      113\n",
       "female     87\n",
       "Name: Gender, dtype: int64"
      ]
     },
     "execution_count": 4,
     "metadata": {},
     "output_type": "execute_result"
    }
   ],
   "source": [
    "### Gender descriptive analysis\n",
    "# Count of each factor level of the Gender variable\n",
    "datadf['Gender'].value_counts()\n"
   ]
  },
  {
   "cell_type": "code",
   "execution_count": 6,
   "metadata": {},
   "outputs": [
    {
     "data": {
      "text/html": [
       "<div>\n",
       "<style scoped>\n",
       "    .dataframe tbody tr th:only-of-type {\n",
       "        vertical-align: middle;\n",
       "    }\n",
       "\n",
       "    .dataframe tbody tr th {\n",
       "        vertical-align: top;\n",
       "    }\n",
       "\n",
       "    .dataframe thead th {\n",
       "        text-align: right;\n",
       "    }\n",
       "</style>\n",
       "<table border=\"1\" class=\"dataframe\">\n",
       "  <thead>\n",
       "    <tr style=\"text-align: right;\">\n",
       "      <th></th>\n",
       "      <th>Gender</th>\n",
       "      <th>cum_sum</th>\n",
       "      <th>cum_perc</th>\n",
       "    </tr>\n",
       "  </thead>\n",
       "  <tbody>\n",
       "    <tr>\n",
       "      <th>male</th>\n",
       "      <td>113</td>\n",
       "      <td>113</td>\n",
       "      <td>56.5</td>\n",
       "    </tr>\n",
       "    <tr>\n",
       "      <th>female</th>\n",
       "      <td>87</td>\n",
       "      <td>200</td>\n",
       "      <td>100.0</td>\n",
       "    </tr>\n",
       "  </tbody>\n",
       "</table>\n",
       "</div>"
      ],
      "text/plain": [
       "        Gender  cum_sum  cum_perc\n",
       "male       113      113      56.5\n",
       "female      87      200     100.0"
      ]
     },
     "execution_count": 6,
     "metadata": {},
     "output_type": "execute_result"
    }
   ],
   "source": [
    "# Filtering Gender data\n",
    "gender_datadf = datadf['Gender']\n",
    "\n",
    "# Group by Gender value\n",
    "gender_datadf = pd.DataFrame(gender_datadf.value_counts(sort=True))\n",
    "\n",
    "# Create new column with cumulative sum\n",
    "gender_datadf['cum_sum'] = gender_datadf['Gender'].cumsum()\n",
    "\n",
    "# Create new column with relative frequency\n",
    "gender_datadf['cum_perc'] = 100*gender_datadf['cum_sum']/gender_datadf['Gender'].sum()\n",
    "\n",
    "# Show values\n",
    "gender_datadf"
   ]
  },
  {
   "cell_type": "markdown",
   "metadata": {},
   "source": [
    "## A similar study to the study of the Gender variable"
   ]
  },
  {
   "cell_type": "code",
   "execution_count": 7,
   "metadata": {},
   "outputs": [
    {
     "data": {
      "text/html": [
       "<div>\n",
       "<style scoped>\n",
       "    .dataframe tbody tr th:only-of-type {\n",
       "        vertical-align: middle;\n",
       "    }\n",
       "\n",
       "    .dataframe tbody tr th {\n",
       "        vertical-align: top;\n",
       "    }\n",
       "\n",
       "    .dataframe thead th {\n",
       "        text-align: right;\n",
       "    }\n",
       "</style>\n",
       "<table border=\"1\" class=\"dataframe\">\n",
       "  <thead>\n",
       "    <tr style=\"text-align: right;\">\n",
       "      <th></th>\n",
       "      <th>Python_user</th>\n",
       "      <th>cum_sum</th>\n",
       "      <th>cum_perc</th>\n",
       "    </tr>\n",
       "  </thead>\n",
       "  <tbody>\n",
       "    <tr>\n",
       "      <th>yes</th>\n",
       "      <td>107</td>\n",
       "      <td>107</td>\n",
       "      <td>53.768844</td>\n",
       "    </tr>\n",
       "    <tr>\n",
       "      <th>no</th>\n",
       "      <td>92</td>\n",
       "      <td>199</td>\n",
       "      <td>100.000000</td>\n",
       "    </tr>\n",
       "  </tbody>\n",
       "</table>\n",
       "</div>"
      ],
      "text/plain": [
       "     Python_user  cum_sum    cum_perc\n",
       "yes          107      107   53.768844\n",
       "no            92      199  100.000000"
      ]
     },
     "execution_count": 7,
     "metadata": {},
     "output_type": "execute_result"
    }
   ],
   "source": [
    "### Python_user descriptive analysis\n",
    "\n",
    "# Filtering Python_user data\n",
    "python_datadf = datadf['Python_user']\n",
    "\n",
    "# Group by Python_user\n",
    "python_datadf = pd.DataFrame(python_datadf.value_counts(sort=True))\n",
    "\n",
    "# Create new column with cumulative sum\n",
    "python_datadf['cum_sum'] = python_datadf['Python_user'].cumsum()\n",
    "\n",
    "# Create new column with relative frequency\n",
    "python_datadf['cum_perc'] = 100*python_datadf['cum_sum']/python_datadf['Python_user'].sum()\n",
    "\n",
    "# Show values\n",
    "python_datadf\n"
   ]
  },
  {
   "cell_type": "markdown",
   "metadata": {},
   "source": [
    "## Using the value_counts function"
   ]
  },
  {
   "cell_type": "code",
   "execution_count": 8,
   "metadata": {},
   "outputs": [
    {
     "data": {
      "text/plain": [
       "yes    107\n",
       "no      92\n",
       "Name: Python_user, dtype: int64"
      ]
     },
     "execution_count": 8,
     "metadata": {},
     "output_type": "execute_result"
    }
   ],
   "source": [
    "### Python_user descriptive analysis\n",
    "datadf['Python_user'].value_counts()"
   ]
  },
  {
   "cell_type": "code",
   "execution_count": 9,
   "metadata": {},
   "outputs": [
    {
     "data": {
      "text/html": [
       "<div>\n",
       "<style scoped>\n",
       "    .dataframe tbody tr th:only-of-type {\n",
       "        vertical-align: middle;\n",
       "    }\n",
       "\n",
       "    .dataframe tbody tr th {\n",
       "        vertical-align: top;\n",
       "    }\n",
       "\n",
       "    .dataframe thead th {\n",
       "        text-align: right;\n",
       "    }\n",
       "</style>\n",
       "<table border=\"1\" class=\"dataframe\">\n",
       "  <thead>\n",
       "    <tr style=\"text-align: right;\">\n",
       "      <th></th>\n",
       "      <th>Python_user</th>\n",
       "      <th>cum_sum</th>\n",
       "      <th>cum_perc</th>\n",
       "    </tr>\n",
       "  </thead>\n",
       "  <tbody>\n",
       "    <tr>\n",
       "      <th>yes</th>\n",
       "      <td>107</td>\n",
       "      <td>107</td>\n",
       "      <td>53.5</td>\n",
       "    </tr>\n",
       "    <tr>\n",
       "      <th>no</th>\n",
       "      <td>92</td>\n",
       "      <td>199</td>\n",
       "      <td>99.5</td>\n",
       "    </tr>\n",
       "    <tr>\n",
       "      <th>NaN</th>\n",
       "      <td>1</td>\n",
       "      <td>200</td>\n",
       "      <td>100.0</td>\n",
       "    </tr>\n",
       "  </tbody>\n",
       "</table>\n",
       "</div>"
      ],
      "text/plain": [
       "     Python_user  cum_sum  cum_perc\n",
       "yes          107      107      53.5\n",
       "no            92      199      99.5\n",
       "NaN            1      200     100.0"
      ]
     },
     "execution_count": 9,
     "metadata": {},
     "output_type": "execute_result"
    }
   ],
   "source": [
    "python_datadf = datadf['Python_user']\n",
    "\n",
    "python_datadf = pd.DataFrame(python_datadf.value_counts(sort=True,dropna =False))\n",
    "\n",
    "python_datadf['cum_sum'] = python_datadf['Python_user'].cumsum()\n",
    "\n",
    "python_datadf['cum_perc'] = 100*python_datadf['cum_sum']/python_datadf['Python_user'].sum()\n",
    "\n",
    "python_datadf"
   ]
  },
  {
   "cell_type": "markdown",
   "metadata": {},
   "source": [
    "## Analysis of the R_user variable"
   ]
  },
  {
   "cell_type": "code",
   "execution_count": 10,
   "metadata": {},
   "outputs": [
    {
     "name": "stdout",
     "output_type": "stream",
     "text": [
      "yes    109\n",
      "no      91\n",
      "Name: R_user, dtype: int64\n"
     ]
    }
   ],
   "source": [
    "### R_user descriptive analysis\n",
    "print(datadf['R_user'].value_counts())"
   ]
  },
  {
   "cell_type": "code",
   "execution_count": 11,
   "metadata": {},
   "outputs": [
    {
     "data": {
      "text/html": [
       "<div>\n",
       "<style scoped>\n",
       "    .dataframe tbody tr th:only-of-type {\n",
       "        vertical-align: middle;\n",
       "    }\n",
       "\n",
       "    .dataframe tbody tr th {\n",
       "        vertical-align: top;\n",
       "    }\n",
       "\n",
       "    .dataframe thead th {\n",
       "        text-align: right;\n",
       "    }\n",
       "</style>\n",
       "<table border=\"1\" class=\"dataframe\">\n",
       "  <thead>\n",
       "    <tr style=\"text-align: right;\">\n",
       "      <th></th>\n",
       "      <th>R_user</th>\n",
       "      <th>cum_sum</th>\n",
       "      <th>cum_perc</th>\n",
       "    </tr>\n",
       "  </thead>\n",
       "  <tbody>\n",
       "    <tr>\n",
       "      <th>yes</th>\n",
       "      <td>109</td>\n",
       "      <td>109</td>\n",
       "      <td>54.5</td>\n",
       "    </tr>\n",
       "    <tr>\n",
       "      <th>no</th>\n",
       "      <td>91</td>\n",
       "      <td>200</td>\n",
       "      <td>100.0</td>\n",
       "    </tr>\n",
       "  </tbody>\n",
       "</table>\n",
       "</div>"
      ],
      "text/plain": [
       "     R_user  cum_sum  cum_perc\n",
       "yes     109      109      54.5\n",
       "no       91      200     100.0"
      ]
     },
     "execution_count": 11,
     "metadata": {},
     "output_type": "execute_result"
    }
   ],
   "source": [
    "# Filtering R_user data\n",
    "r_datadf = datadf['R_user']\n",
    "\n",
    "# Group by R_user\n",
    "r_datadf = pd.DataFrame(r_datadf.value_counts(sort=True))\n",
    "\n",
    "# Create new column with cumulative sum\n",
    "r_datadf['cum_sum'] = r_datadf['R_user'].cumsum()\n",
    "\n",
    "# Create new column with relative frequency\n",
    "r_datadf['cum_perc'] = 100*r_datadf['cum_sum']/r_datadf['R_user'].sum()\n",
    "\n",
    "# Show value\n",
    "r_datadf"
   ]
  },
  {
   "cell_type": "markdown",
   "metadata": {},
   "source": [
    "## \"Tasks”"
   ]
  },
  {
   "cell_type": "code",
   "execution_count": 12,
   "metadata": {},
   "outputs": [
    {
     "data": {
      "text/html": [
       "<div>\n",
       "<style scoped>\n",
       "    .dataframe tbody tr th:only-of-type {\n",
       "        vertical-align: middle;\n",
       "    }\n",
       "\n",
       "    .dataframe tbody tr th {\n",
       "        vertical-align: top;\n",
       "    }\n",
       "\n",
       "    .dataframe thead th {\n",
       "        text-align: right;\n",
       "    }\n",
       "</style>\n",
       "<table border=\"1\" class=\"dataframe\">\n",
       "  <thead>\n",
       "    <tr style=\"text-align: right;\">\n",
       "      <th></th>\n",
       "      <th>Tasks</th>\n",
       "      <th>cum_sum</th>\n",
       "      <th>cum_perc</th>\n",
       "    </tr>\n",
       "  </thead>\n",
       "  <tbody>\n",
       "    <tr>\n",
       "      <th>PhD_Student</th>\n",
       "      <td>78</td>\n",
       "      <td>78</td>\n",
       "      <td>39.0</td>\n",
       "    </tr>\n",
       "    <tr>\n",
       "      <th>Postdoctoral_research</th>\n",
       "      <td>66</td>\n",
       "      <td>144</td>\n",
       "      <td>72.0</td>\n",
       "    </tr>\n",
       "    <tr>\n",
       "      <th>Phd_Supervisor</th>\n",
       "      <td>56</td>\n",
       "      <td>200</td>\n",
       "      <td>100.0</td>\n",
       "    </tr>\n",
       "  </tbody>\n",
       "</table>\n",
       "</div>"
      ],
      "text/plain": [
       "                       Tasks  cum_sum  cum_perc\n",
       "PhD_Student               78       78      39.0\n",
       "Postdoctoral_research     66      144      72.0\n",
       "Phd_Supervisor            56      200     100.0"
      ]
     },
     "execution_count": 12,
     "metadata": {},
     "output_type": "execute_result"
    }
   ],
   "source": [
    "### Tasks descriptive analysis\n",
    "\n",
    "# Filtering Tasks data\n",
    "tasks_datadf = datadf['Tasks']\n",
    "\n",
    "# Group by tasks\n",
    "tasks_datadf = pd.DataFrame(tasks_datadf.value_counts(sort=True))\n",
    "\n",
    "# Create new column with cumulative sum\n",
    "tasks_datadf['cum_sum'] = tasks_datadf['Tasks'].cumsum()\n",
    "\n",
    "# Create new column with relative frequency\n",
    "tasks_datadf['cum_perc'] = 100*tasks_datadf['cum_sum']/tasks_datadf['Tasks'].sum()\n",
    "\n",
    "# Show values\n",
    "tasks_datadf"
   ]
  },
  {
   "cell_type": "markdown",
   "metadata": {},
   "source": [
    "#  2.- Discrete Numerical Variables"
   ]
  },
  {
   "cell_type": "markdown",
   "metadata": {},
   "source": [
    "## Age and publication variables"
   ]
  },
  {
   "cell_type": "code",
   "execution_count": 13,
   "metadata": {},
   "outputs": [
    {
     "name": "stdout",
     "output_type": "stream",
     "text": [
      "\n",
      "Age Variable: \n",
      "\n",
      "Number of elements:      200\n",
      "Minimum:   24.000 Maximum:   52.000\n",
      "Mean:   37.056\n",
      "Variance:   31.779\n",
      "Standard Deviation:    5.637\n"
     ]
    }
   ],
   "source": [
    "### Age and number of publications descriptive analysis\n",
    "\n",
    "## Age\n",
    "\n",
    "# To write the name of the output list\n",
    "print(\"\\nAge Variable: \\n\")\n",
    "\n",
    "# Dimension of the Age variable\n",
    "print(\"Number of elements: {0:8.0f}\".format(len(datadf['Age'])))\n",
    "\n",
    "# Minimum and maximum of the Age variable\n",
    "print(\"Minimum: {0:8.3f} Maximum: {1:8.3f}\".format(datadf['Age'].min(), datadf['Age'].max()))\n",
    "\n",
    "# Mean of the Age variable\n",
    "print(\"Mean: {0:8.3f}\".format(datadf['Age'].mean()))\n",
    "\n",
    "# Variance of the Age variable\n",
    "print(\"Variance: {0:8.3f}\".format(datadf['Age'].var()))\n",
    "\n",
    "# Standard deviation of the Age variable\n",
    "print(\"Standard Deviation: {0:8.3f}\".format(datadf['Age'].std()))"
   ]
  },
  {
   "cell_type": "code",
   "execution_count": 14,
   "metadata": {},
   "outputs": [
    {
     "data": {
      "text/plain": [
       "count    198.000000\n",
       "mean      37.055556\n",
       "std        5.637253\n",
       "min       24.000000\n",
       "25%       33.000000\n",
       "50%       37.000000\n",
       "75%       41.000000\n",
       "max       52.000000\n",
       "Name: Age, dtype: float64"
      ]
     },
     "execution_count": 14,
     "metadata": {},
     "output_type": "execute_result"
    }
   ],
   "source": [
    "datadf['Age'].describe()\n",
    "\n"
   ]
  },
  {
   "cell_type": "code",
   "execution_count": 15,
   "metadata": {},
   "outputs": [
    {
     "name": "stdout",
     "output_type": "stream",
     "text": [
      "\n",
      "Publications: \n",
      "\n",
      "Number of elements:      200\n",
      "Minimum:   11.000 Maximum:   70.000\n",
      "Mean:   29.650\n",
      "Variance:   59.957\n",
      "Standard Deviation:    7.743\n"
     ]
    }
   ],
   "source": [
    "##Publications\n",
    "\n",
    "# To write the name of the output list\n",
    "print(\"\\nPublications: \\n\")\n",
    "\n",
    "# Dimension of the Publications variable\n",
    "print(\"Number of elements: {0:8.0f}\".format(len(datadf['Publications'])))\n",
    "\n",
    "# Minimum and maximum of the Publications variable\n",
    "print(\"Minimum: {0:8.3f} Maximum: {1:8.3f}\". format(datadf['Publications'].min(), datadf['Publications'].max()))\n",
    "\n",
    "# Mean of the Publications variable\n",
    "print(\"Mean: {0:8.3f}\".format(datadf['Publications'].mean()))\n",
    "\n",
    "# Variance of the Publications variable\n",
    "print(\"Variance: {0:8.3f}\".format(datadf['Publications'].var()))\n",
    "\n",
    "# Standard deviation of the Publications variable\n",
    "print(\"Standard Deviation: {0:8.3f}\".format(datadf['Publications'].std()))\n",
    "      "
   ]
  },
  {
   "cell_type": "code",
   "execution_count": 14,
   "metadata": {},
   "outputs": [
    {
     "data": {
      "text/plain": [
       "count    200.000000\n",
       "mean      29.650000\n",
       "std        7.743209\n",
       "min       11.000000\n",
       "25%       25.000000\n",
       "50%       31.000000\n",
       "75%       35.000000\n",
       "max       70.000000\n",
       "Name: Publications, dtype: float64"
      ]
     },
     "execution_count": 14,
     "metadata": {},
     "output_type": "execute_result"
    }
   ],
   "source": [
    "datadf['Publications'].describe()"
   ]
  },
  {
   "cell_type": "markdown",
   "metadata": {},
   "source": [
    "# 3.- Continuous Numerical Variables"
   ]
  },
  {
   "cell_type": "markdown",
   "metadata": {},
   "source": [
    "## Frequency analysis"
   ]
  },
  {
   "cell_type": "code",
   "execution_count": 16,
   "metadata": {},
   "outputs": [
    {
     "data": {
      "text/html": [
       "<div>\n",
       "<style scoped>\n",
       "    .dataframe tbody tr th:only-of-type {\n",
       "        vertical-align: middle;\n",
       "    }\n",
       "\n",
       "    .dataframe tbody tr th {\n",
       "        vertical-align: top;\n",
       "    }\n",
       "\n",
       "    .dataframe thead th {\n",
       "        text-align: right;\n",
       "    }\n",
       "</style>\n",
       "<table border=\"1\" class=\"dataframe\">\n",
       "  <thead>\n",
       "    <tr style=\"text-align: right;\">\n",
       "      <th></th>\n",
       "      <th>Publications</th>\n",
       "      <th>cum_sum</th>\n",
       "      <th>cum_perc</th>\n",
       "    </tr>\n",
       "  </thead>\n",
       "  <tbody>\n",
       "    <tr>\n",
       "      <th>31</th>\n",
       "      <td>15</td>\n",
       "      <td>15</td>\n",
       "      <td>7.5</td>\n",
       "    </tr>\n",
       "    <tr>\n",
       "      <th>33</th>\n",
       "      <td>14</td>\n",
       "      <td>29</td>\n",
       "      <td>14.5</td>\n",
       "    </tr>\n",
       "    <tr>\n",
       "      <th>29</th>\n",
       "      <td>13</td>\n",
       "      <td>42</td>\n",
       "      <td>21.0</td>\n",
       "    </tr>\n",
       "    <tr>\n",
       "      <th>25</th>\n",
       "      <td>13</td>\n",
       "      <td>55</td>\n",
       "      <td>27.5</td>\n",
       "    </tr>\n",
       "    <tr>\n",
       "      <th>26</th>\n",
       "      <td>12</td>\n",
       "      <td>67</td>\n",
       "      <td>33.5</td>\n",
       "    </tr>\n",
       "    <tr>\n",
       "      <th>36</th>\n",
       "      <td>12</td>\n",
       "      <td>79</td>\n",
       "      <td>39.5</td>\n",
       "    </tr>\n",
       "    <tr>\n",
       "      <th>39</th>\n",
       "      <td>10</td>\n",
       "      <td>89</td>\n",
       "      <td>44.5</td>\n",
       "    </tr>\n",
       "    <tr>\n",
       "      <th>34</th>\n",
       "      <td>10</td>\n",
       "      <td>99</td>\n",
       "      <td>49.5</td>\n",
       "    </tr>\n",
       "    <tr>\n",
       "      <th>35</th>\n",
       "      <td>9</td>\n",
       "      <td>108</td>\n",
       "      <td>54.0</td>\n",
       "    </tr>\n",
       "    <tr>\n",
       "      <th>32</th>\n",
       "      <td>9</td>\n",
       "      <td>117</td>\n",
       "      <td>58.5</td>\n",
       "    </tr>\n",
       "    <tr>\n",
       "      <th>21</th>\n",
       "      <td>8</td>\n",
       "      <td>125</td>\n",
       "      <td>62.5</td>\n",
       "    </tr>\n",
       "    <tr>\n",
       "      <th>22</th>\n",
       "      <td>7</td>\n",
       "      <td>132</td>\n",
       "      <td>66.0</td>\n",
       "    </tr>\n",
       "    <tr>\n",
       "      <th>24</th>\n",
       "      <td>7</td>\n",
       "      <td>139</td>\n",
       "      <td>69.5</td>\n",
       "    </tr>\n",
       "    <tr>\n",
       "      <th>28</th>\n",
       "      <td>7</td>\n",
       "      <td>146</td>\n",
       "      <td>73.0</td>\n",
       "    </tr>\n",
       "    <tr>\n",
       "      <th>30</th>\n",
       "      <td>6</td>\n",
       "      <td>152</td>\n",
       "      <td>76.0</td>\n",
       "    </tr>\n",
       "    <tr>\n",
       "      <th>38</th>\n",
       "      <td>6</td>\n",
       "      <td>158</td>\n",
       "      <td>79.0</td>\n",
       "    </tr>\n",
       "    <tr>\n",
       "      <th>18</th>\n",
       "      <td>5</td>\n",
       "      <td>163</td>\n",
       "      <td>81.5</td>\n",
       "    </tr>\n",
       "    <tr>\n",
       "      <th>37</th>\n",
       "      <td>4</td>\n",
       "      <td>167</td>\n",
       "      <td>83.5</td>\n",
       "    </tr>\n",
       "    <tr>\n",
       "      <th>40</th>\n",
       "      <td>4</td>\n",
       "      <td>171</td>\n",
       "      <td>85.5</td>\n",
       "    </tr>\n",
       "    <tr>\n",
       "      <th>16</th>\n",
       "      <td>4</td>\n",
       "      <td>175</td>\n",
       "      <td>87.5</td>\n",
       "    </tr>\n",
       "    <tr>\n",
       "      <th>15</th>\n",
       "      <td>4</td>\n",
       "      <td>179</td>\n",
       "      <td>89.5</td>\n",
       "    </tr>\n",
       "    <tr>\n",
       "      <th>19</th>\n",
       "      <td>3</td>\n",
       "      <td>182</td>\n",
       "      <td>91.0</td>\n",
       "    </tr>\n",
       "    <tr>\n",
       "      <th>12</th>\n",
       "      <td>2</td>\n",
       "      <td>184</td>\n",
       "      <td>92.0</td>\n",
       "    </tr>\n",
       "    <tr>\n",
       "      <th>27</th>\n",
       "      <td>2</td>\n",
       "      <td>186</td>\n",
       "      <td>93.0</td>\n",
       "    </tr>\n",
       "    <tr>\n",
       "      <th>41</th>\n",
       "      <td>2</td>\n",
       "      <td>188</td>\n",
       "      <td>94.0</td>\n",
       "    </tr>\n",
       "    <tr>\n",
       "      <th>23</th>\n",
       "      <td>2</td>\n",
       "      <td>190</td>\n",
       "      <td>95.0</td>\n",
       "    </tr>\n",
       "    <tr>\n",
       "      <th>42</th>\n",
       "      <td>2</td>\n",
       "      <td>192</td>\n",
       "      <td>96.0</td>\n",
       "    </tr>\n",
       "    <tr>\n",
       "      <th>44</th>\n",
       "      <td>2</td>\n",
       "      <td>194</td>\n",
       "      <td>97.0</td>\n",
       "    </tr>\n",
       "    <tr>\n",
       "      <th>17</th>\n",
       "      <td>2</td>\n",
       "      <td>196</td>\n",
       "      <td>98.0</td>\n",
       "    </tr>\n",
       "    <tr>\n",
       "      <th>13</th>\n",
       "      <td>1</td>\n",
       "      <td>197</td>\n",
       "      <td>98.5</td>\n",
       "    </tr>\n",
       "    <tr>\n",
       "      <th>70</th>\n",
       "      <td>1</td>\n",
       "      <td>198</td>\n",
       "      <td>99.0</td>\n",
       "    </tr>\n",
       "    <tr>\n",
       "      <th>45</th>\n",
       "      <td>1</td>\n",
       "      <td>199</td>\n",
       "      <td>99.5</td>\n",
       "    </tr>\n",
       "    <tr>\n",
       "      <th>11</th>\n",
       "      <td>1</td>\n",
       "      <td>200</td>\n",
       "      <td>100.0</td>\n",
       "    </tr>\n",
       "  </tbody>\n",
       "</table>\n",
       "</div>"
      ],
      "text/plain": [
       "    Publications  cum_sum  cum_perc\n",
       "31            15       15       7.5\n",
       "33            14       29      14.5\n",
       "29            13       42      21.0\n",
       "25            13       55      27.5\n",
       "26            12       67      33.5\n",
       "36            12       79      39.5\n",
       "39            10       89      44.5\n",
       "34            10       99      49.5\n",
       "35             9      108      54.0\n",
       "32             9      117      58.5\n",
       "21             8      125      62.5\n",
       "22             7      132      66.0\n",
       "24             7      139      69.5\n",
       "28             7      146      73.0\n",
       "30             6      152      76.0\n",
       "38             6      158      79.0\n",
       "18             5      163      81.5\n",
       "37             4      167      83.5\n",
       "40             4      171      85.5\n",
       "16             4      175      87.5\n",
       "15             4      179      89.5\n",
       "19             3      182      91.0\n",
       "12             2      184      92.0\n",
       "27             2      186      93.0\n",
       "41             2      188      94.0\n",
       "23             2      190      95.0\n",
       "42             2      192      96.0\n",
       "44             2      194      97.0\n",
       "17             2      196      98.0\n",
       "13             1      197      98.5\n",
       "70             1      198      99.0\n",
       "45             1      199      99.5\n",
       "11             1      200     100.0"
      ]
     },
     "execution_count": 16,
     "metadata": {},
     "output_type": "execute_result"
    }
   ],
   "source": [
    "### Frequency analysis of Publications variable\n",
    "\n",
    "# Filtering Publications data\n",
    "pubs_datadf = datadf['Publications']\n",
    "\n",
    "# Group by publications\n",
    "pubs_datadf = pd.DataFrame(pubs_datadf.value_counts(sort=True))\n",
    "\n",
    "# Create new column with cumulative sum\n",
    "pubs_datadf['cum_sum'] = pubs_datadf['Publications'].cumsum()\n",
    "\n",
    "# Create new column with relative frequency\n",
    "pubs_datadf['cum_perc'] = 100*pubs_datadf['cum_sum']/pubs_datadf['Publications'].sum()\n",
    "\n",
    "# Show values\n",
    "pubs_datadf"
   ]
  },
  {
   "cell_type": "markdown",
   "metadata": {},
   "source": [
    "## Two suggestions of the division with intervals and cor- responding frequencies"
   ]
  },
  {
   "cell_type": "code",
   "execution_count": 17,
   "metadata": {},
   "outputs": [
    {
     "data": {
      "text/plain": [
       "(array([ 0,  3, 19, 37, 55, 64, 20,  1,  0,  0,  1], dtype=int64),\n",
       " array([ 0.        ,  6.36363636, 12.72727273, 19.09090909, 25.45454545,\n",
       "        31.81818182, 38.18181818, 44.54545455, 50.90909091, 57.27272727,\n",
       "        63.63636364, 70.        ]))"
      ]
     },
     "execution_count": 17,
     "metadata": {},
     "output_type": "execute_result"
    }
   ],
   "source": [
    "### Division at intervals and corresponding frequencies\n",
    "\n",
    "# a) Division of the interval in 11 equal parts, and the interval closed on right\n",
    "table = np.histogram(datadf['Publications'], bins=11, range=(0, 70))\n",
    "\n",
    "table\n"
   ]
  },
  {
   "cell_type": "code",
   "execution_count": 18,
   "metadata": {},
   "outputs": [
    {
     "data": {
      "text/plain": [
       "(array([ 0, 22, 71, 95, 12], dtype=int64), array([ 0, 10, 20, 30, 40, 70]))"
      ]
     },
     "execution_count": 18,
     "metadata": {},
     "output_type": "execute_result"
    }
   ],
   "source": [
    "# b) Division at fixed intervals, i.e., the buckets object indicates\n",
    "#    the limits of the intervals. The intervals should be closed on right.\n",
    "buckets = [0,10, 20, 30, 40,70]\n",
    "table = np.histogram(datadf['Publications'], bins=buckets)\n",
    "\n",
    "table"
   ]
  },
  {
   "cell_type": "markdown",
   "metadata": {},
   "source": [
    "# 4.- Graphical Representation"
   ]
  },
  {
   "cell_type": "markdown",
   "metadata": {},
   "source": [
    "## 4.1.- Pie Chart"
   ]
  },
  {
   "cell_type": "code",
   "execution_count": 20,
   "metadata": {},
   "outputs": [
    {
     "data": {
      "image/png": "[encoded data removed]",
      "text/plain": [
       "<Figure size 432x288 with 1 Axes>"
      ]
     },
     "metadata": {},
     "output_type": "display_data"
    }
   ],
   "source": [
    "### Pie Chart Gender\n",
    "# Import packages matplotlib.pyplot and pandas\n",
    "import matplotlib.pyplot as plt\n",
    "%matplotlib inline\n",
    "# Pie chart labels\n",
    "label_list = datadf['Gender'].value_counts(sort=False).index\n",
    "\n",
    "# Plot pie chart axis\n",
    "plt.axis(\"equal\")\n",
    "\n",
    "# The pie chart is oval by default. To make it a circle use pyplot. axis(“equal”)\n",
    "# To show the percentage of each pie slice, pass an output format to the autopct \n",
    "# parameter (rounding to 1 decimal place). \n",
    "plt.pie(datadf['Gender'].value_counts(sort=False),\n",
    "        labels=label_list,autopct=\"%1.1f%%\")\n",
    "\n",
    "plt.title(\"Researchers Gender\")\n",
    "\n",
    "plt.show()"
   ]
  },
  {
   "cell_type": "markdown",
   "metadata": {},
   "source": [
    "## 4.2 Bar Graph"
   ]
  },
  {
   "cell_type": "code",
   "execution_count": 21,
   "metadata": {},
   "outputs": [
    {
     "data": {
      "image/png": "[encoded data removed]",
      "text/plain": [
       "<Figure size 432x288 with 1 Axes>"
      ]
     },
     "metadata": {
      "needs_background": "light"
     },
     "output_type": "display_data"
    }
   ],
   "source": [
    "### Tasks Bar Graph\n",
    "# Grouped sum of Tasks\n",
    "var = datadf['Tasks'].value_counts(sort=False)\n",
    "\n",
    "# Tasks Bar Graph\n",
    "plt.figure()\n",
    "\n",
    "# Setting y-axis label\n",
    "plt.ylabel(\"Number of Reseachers\")\n",
    "\n",
    "# Setting graph title\n",
    "plt.title(\"Counting Reseacher’s Tasks\")\n",
    "\n",
    "# Trigger Bar Graph\n",
    "var.plot.bar()\n",
    "\n",
    "# Show Bar Graph\n",
    "plt.show()"
   ]
  },
  {
   "cell_type": "markdown",
   "metadata": {},
   "source": [
    "## 4.3.- Boxplots"
   ]
  },
  {
   "cell_type": "code",
   "execution_count": 22,
   "metadata": {},
   "outputs": [
    {
     "data": {
      "text/html": [
       "<div>\n",
       "<style scoped>\n",
       "    .dataframe tbody tr th:only-of-type {\n",
       "        vertical-align: middle;\n",
       "    }\n",
       "\n",
       "    .dataframe tbody tr th {\n",
       "        vertical-align: top;\n",
       "    }\n",
       "\n",
       "    .dataframe thead th {\n",
       "        text-align: right;\n",
       "    }\n",
       "</style>\n",
       "<table border=\"1\" class=\"dataframe\">\n",
       "  <thead>\n",
       "    <tr style=\"text-align: right;\">\n",
       "      <th></th>\n",
       "      <th>id</th>\n",
       "      <th>Gender</th>\n",
       "      <th>Python_user</th>\n",
       "      <th>R_user</th>\n",
       "      <th>Age</th>\n",
       "      <th>Publications</th>\n",
       "      <th>Tasks</th>\n",
       "      <th>Q1</th>\n",
       "      <th>Q2</th>\n",
       "      <th>Q3</th>\n",
       "      <th>Q4</th>\n",
       "      <th>Q5</th>\n",
       "      <th>Q6</th>\n",
       "      <th>Q7</th>\n",
       "      <th>Q8</th>\n",
       "      <th>Q9</th>\n",
       "      <th>Q10</th>\n",
       "      <th>Year</th>\n",
       "    </tr>\n",
       "  </thead>\n",
       "  <tbody>\n",
       "    <tr>\n",
       "      <th>0</th>\n",
       "      <td>1</td>\n",
       "      <td>female</td>\n",
       "      <td>yes</td>\n",
       "      <td>yes</td>\n",
       "      <td>38.0</td>\n",
       "      <td>33</td>\n",
       "      <td>Postdoctoral_research</td>\n",
       "      <td>5</td>\n",
       "      <td>5</td>\n",
       "      <td>5</td>\n",
       "      <td>3</td>\n",
       "      <td>3</td>\n",
       "      <td>2</td>\n",
       "      <td>5</td>\n",
       "      <td>4</td>\n",
       "      <td>5</td>\n",
       "      <td>4</td>\n",
       "      <td>2004</td>\n",
       "    </tr>\n",
       "    <tr>\n",
       "      <th>1</th>\n",
       "      <td>2</td>\n",
       "      <td>male</td>\n",
       "      <td>no</td>\n",
       "      <td>yes</td>\n",
       "      <td>36.0</td>\n",
       "      <td>31</td>\n",
       "      <td>Postdoctoral_research</td>\n",
       "      <td>3</td>\n",
       "      <td>4</td>\n",
       "      <td>4</td>\n",
       "      <td>4</td>\n",
       "      <td>4</td>\n",
       "      <td>3</td>\n",
       "      <td>5</td>\n",
       "      <td>4</td>\n",
       "      <td>4</td>\n",
       "      <td>2</td>\n",
       "      <td>2002</td>\n",
       "    </tr>\n",
       "    <tr>\n",
       "      <th>2</th>\n",
       "      <td>3</td>\n",
       "      <td>male</td>\n",
       "      <td>yes</td>\n",
       "      <td>no</td>\n",
       "      <td>30.0</td>\n",
       "      <td>19</td>\n",
       "      <td>PhD_Student</td>\n",
       "      <td>5</td>\n",
       "      <td>5</td>\n",
       "      <td>5</td>\n",
       "      <td>4</td>\n",
       "      <td>5</td>\n",
       "      <td>4</td>\n",
       "      <td>5</td>\n",
       "      <td>4</td>\n",
       "      <td>5</td>\n",
       "      <td>5</td>\n",
       "      <td>2016</td>\n",
       "    </tr>\n",
       "    <tr>\n",
       "      <th>3</th>\n",
       "      <td>4</td>\n",
       "      <td>female</td>\n",
       "      <td>yes</td>\n",
       "      <td>no</td>\n",
       "      <td>42.0</td>\n",
       "      <td>29</td>\n",
       "      <td>Phd_Supervisor</td>\n",
       "      <td>4</td>\n",
       "      <td>4</td>\n",
       "      <td>4</td>\n",
       "      <td>3</td>\n",
       "      <td>3</td>\n",
       "      <td>4</td>\n",
       "      <td>4</td>\n",
       "      <td>2</td>\n",
       "      <td>3</td>\n",
       "      <td>4</td>\n",
       "      <td>2007</td>\n",
       "    </tr>\n",
       "    <tr>\n",
       "      <th>4</th>\n",
       "      <td>5</td>\n",
       "      <td>female</td>\n",
       "      <td>yes</td>\n",
       "      <td>no</td>\n",
       "      <td>37.0</td>\n",
       "      <td>31</td>\n",
       "      <td>PhD_Student</td>\n",
       "      <td>4</td>\n",
       "      <td>3</td>\n",
       "      <td>5</td>\n",
       "      <td>2</td>\n",
       "      <td>4</td>\n",
       "      <td>4</td>\n",
       "      <td>5</td>\n",
       "      <td>3</td>\n",
       "      <td>5</td>\n",
       "      <td>4</td>\n",
       "      <td>2001</td>\n",
       "    </tr>\n",
       "  </tbody>\n",
       "</table>\n",
       "</div>"
      ],
      "text/plain": [
       "   id  Gender Python_user R_user   Age  Publications                  Tasks  \\\n",
       "0   1  female         yes    yes  38.0            33  Postdoctoral_research   \n",
       "1   2    male          no    yes  36.0            31  Postdoctoral_research   \n",
       "2   3    male         yes     no  30.0            19            PhD_Student   \n",
       "3   4  female         yes     no  42.0            29         Phd_Supervisor   \n",
       "4   5  female         yes     no  37.0            31            PhD_Student   \n",
       "\n",
       "   Q1  Q2  Q3  Q4  Q5  Q6  Q7  Q8  Q9  Q10  Year  \n",
       "0   5   5   5   3   3   2   5   4   5    4  2004  \n",
       "1   3   4   4   4   4   3   5   4   4    2  2002  \n",
       "2   5   5   5   4   5   4   5   4   5    5  2016  \n",
       "3   4   4   4   3   3   4   4   2   3    4  2007  \n",
       "4   4   3   5   2   4   4   5   3   5    4  2001  "
      ]
     },
     "execution_count": 22,
     "metadata": {},
     "output_type": "execute_result"
    }
   ],
   "source": [
    "datadf = pd.read_csv(\"data.csv\",sep = \";\")\n",
    "datadf.head()"
   ]
  },
  {
   "cell_type": "code",
   "execution_count": 23,
   "metadata": {},
   "outputs": [
    {
     "data": {
      "image/png": "[encoded data removed]",
      "text/plain": [
       "<Figure size 432x288 with 1 Axes>"
      ]
     },
     "metadata": {
      "needs_background": "light"
     },
     "output_type": "display_data"
    }
   ],
   "source": [
    "### Boxplot of Age variable\n",
    "\n",
    "# First we have to take NaN values and substitute \n",
    "# them for the mean of the variable\n",
    "datadf['Age']=datadf['Age'].replace('nan',datadf['Age'].mean())\n",
    "\n",
    "# Set type plot\n",
    "datadf['Age'].plot(kind='box')\n",
    "\n",
    "# Setting Plot Title\n",
    "plt.title('Age Boxplot')\n",
    "\n",
    "# Show Plot\n",
    "plt.show()"
   ]
  },
  {
   "cell_type": "code",
   "execution_count": 22,
   "metadata": {},
   "outputs": [
    {
     "data": {
      "image/png": "[encoded data removed]",
      "text/plain": [
       "<Figure size 432x288 with 1 Axes>"
      ]
     },
     "metadata": {
      "needs_background": "light"
     },
     "output_type": "display_data"
    }
   ],
   "source": [
    "### Boxplot of Publications variable\n",
    "\n",
    "# Plot boxplot and create one or more subplots \n",
    "# using add_subplot, because you can’t create blank figure\n",
    "\n",
    "# Set type plot\n",
    "datadf['Publications'].plot(kind='box')\n",
    "\n",
    "# Boxplot Title\n",
    "plt.title('Publications Boxplot')\n",
    "\n",
    "# Show Boxplot\n",
    "plt.show()"
   ]
  },
  {
   "cell_type": "markdown",
   "metadata": {},
   "source": [
    "## Boxplot showing the number of Publications depending on the Age of the researchers"
   ]
  },
  {
   "cell_type": "code",
   "execution_count": 60,
   "metadata": {
    "scrolled": true
   },
   "outputs": [
    {
     "name": "stdout",
     "output_type": "stream",
     "text": [
      "      id  Gender   Age  Publications\n",
      "167  168  female  28.0            21\n",
      "     id Gender   Age  Publications\n",
      "99  100   male  36.0            12\n"
     ]
    },
    {
     "data": {
      "text/plain": [
       "<matplotlib.axes._subplots.AxesSubplot at 0x21c556429e8>"
      ]
     },
     "execution_count": 60,
     "metadata": {},
     "output_type": "execute_result"
    },
    {
     "data": {
      "image/png": "[encoded data removed]",
      "text/plain": [
       "<Figure size 432x288 with 1 Axes>"
      ]
     },
     "metadata": {
      "needs_background": "light"
     },
     "output_type": "display_data"
    }
   ],
   "source": [
    "### Boxplot of Publications vs. Age\n",
    "# Import pandas package\n",
    "import pandas as pd\n",
    "# First we have to take NaN values and \n",
    "# substitute them for the mean of the variable\n",
    "\n",
    "datadf['Age']=datadf['Age'].replace('nan',datadf['Age'].mean())\n",
    "# Get only Publications and Age variables\n",
    "new_datadf = datadf.loc[:,['Age','Publications']]\n",
    "\n",
    "#Buscando el outline de 28\n",
    "dataframe_28=datadf.loc[datadf[\"Age\"] == 28 ]\n",
    "nro_max_pub=dataframe_28[\"Publications\"].max()\n",
    "outline=dataframe_28.loc[dataframe_28[\"Publications\"]==nro_max_pub,[\"id\",\"Gender\",\"Age\",\"Publications\"]]\n",
    "print(outline)\n",
    "\n",
    "#Buscando el outline de 36\n",
    "dataframe_36=datadf.loc[datadf[\"Age\"] == 36 ]\n",
    "nro_min_pub=dataframe_36[\"Publications\"].min()\n",
    "outline=dataframe_36.loc[dataframe_36[\"Publications\"]==nro_min_pub,[\"id\",\"Gender\",\"Age\",\"Publications\"]]\n",
    "print(outline)\n",
    "\n",
    "# Boxplot\n",
    "new_datadf.boxplot(by='Age',rot = 90)"
   ]
  },
  {
   "cell_type": "markdown",
   "metadata": {},
   "source": [
    "## Histogram of the number of Publications"
   ]
  },
  {
   "cell_type": "code",
   "execution_count": 30,
   "metadata": {},
   "outputs": [
    {
     "data": {
      "image/png": "[encoded data removed]",
      "text/plain": [
       "<Figure size 432x288 with 1 Axes>"
      ]
     },
     "metadata": {
      "needs_background": "light"
     },
     "output_type": "display_data"
    }
   ],
   "source": [
    "### Histogram of the number of Publications\n",
    "\n",
    "# Publications Histogram\n",
    "fig=plt.figure() #Plots in matplotlib reside within a figure object, use plt.figure to create new figure\n",
    "\n",
    "# Create one or more subplots using add_subplot, because you can’t create blank figure\n",
    "ax = fig.add_subplot(1,1,1)\n",
    "\n",
    "# Variable\n",
    "ax.hist(datadf['Publications'],facecolor='green')# Here it is possible to change the number of bins\n",
    "\n",
    "# Limits of x axis\n",
    "ax.set_xlim(0, 70)\n",
    "\n",
    "# Limits of y axis\n",
    "ax.set_ylim(0,80)\n",
    "\n",
    "# Set grid on\n",
    "ax.grid(True)\n",
    "\n",
    "# Labels and Title\n",
    "plt.title('Publications distribution')\n",
    "plt.xlabel('Publications')\n",
    "plt.ylabel('#Reseachers')\n",
    "\n",
    "# Finally, show plot\n",
    "plt.show()"
   ]
  },
  {
   "cell_type": "code",
   "execution_count": null,
   "metadata": {},
   "outputs": [],
   "source": []
  }
 ],
 "metadata": {
  "kernelspec": {
   "display_name": "Python 3",
   "language": "python",
   "name": "python3"
  },
  "language_info": {
   "codemirror_mode": {
    "name": "ipython",
    "version": 3
   },
   "file_extension": ".py",
   "mimetype": "text/x-python",
   "name": "python",
   "nbconvert_exporter": "python",
   "pygments_lexer": "ipython3",
   "version": "3.7.3"
  }
 },
 "nbformat": 4,
 "nbformat_minor": 2
}
